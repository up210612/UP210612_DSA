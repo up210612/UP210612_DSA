{
 "cells": [
  {
   "cell_type": "code",
   "execution_count": 1,
   "id": "bcd05966-cdd8-4808-8dff-a314f25bc531",
   "metadata": {},
   "outputs": [],
   "source": [
    "class Node: \n",
    "    def __init__(self, data):\n",
    "        self.data =data\n",
    "        self.next= None\n",
    "    \n",
    "    def getData(self):\n",
    "        return self.data\n",
    "\n",
    "class Stack: #las clases siempre comienzan con MAYUSC \n",
    "    def __init__(self):\n",
    "        self.head=None\n",
    "        self.size=0\n",
    "    \n",
    "    def getSize(self):\n",
    "        return self.size\n",
    "\n",
    "    def isEmpty(self):\n",
    "        \n",
    "        return True if self.size == 0 else False\n",
    "        #return True if not self.size else False \n",
    "        \n",
    "\n",
    "    def hasDat (self):\n",
    "        if self.size>=1:\n",
    "            return True\n",
    "        else: False\n",
    "\n",
    "    def push (self, data):\n",
    "        newNode = Node(data)\n",
    "        newNode.next= self.head\n",
    "        self.head= newNode\n",
    "        self.size+=1\n",
    "    \n",
    "    def pop (self):\n",
    "        dat= None\n",
    "        if not self.isEmpty:\n",
    "            dat= self.head.data\n",
    "            self.head=self.head.next\n",
    "            self.size-=1\n",
    "        return dat"
   ]
  },
  {
   "cell_type": "code",
   "execution_count": 19,
   "id": "97405c00-a1d6-474f-9379-7023c758c4d9",
   "metadata": {},
   "outputs": [],
   "source": [
    "p1 = Stack()\n",
    "p1.push(\"jesus\")\n",
    "p1.push(\"Maria\") \n",
    "p1.push(\"josé\")\n",
    "#p1.push(\"try\")\n"
   ]
  },
  {
   "cell_type": "code",
   "execution_count": 20,
   "id": "c632aaf5-d85f-44ce-ac4f-7ee7039b9543",
   "metadata": {},
   "outputs": [
    {
     "name": "stdout",
     "output_type": "stream",
     "text": [
      "josé\n",
      "Maria\n",
      "jesus\n"
     ]
    }
   ],
   "source": [
    "print(p1.pop())\n",
    "print(p1.pop())\n",
    "print(p1.pop())"
   ]
  },
  {
   "cell_type": "code",
   "execution_count": null,
   "id": "0dca3a0d-fbc4-447e-9c92-412f2e5c6d35",
   "metadata": {},
   "outputs": [],
   "source": []
  }
 ],
 "metadata": {
  "kernelspec": {
   "display_name": "Python 3",
   "language": "python",
   "name": "python3"
  },
  "language_info": {
   "codemirror_mode": {
    "name": "ipython",
    "version": 3
   },
   "file_extension": ".py",
   "mimetype": "text/x-python",
   "name": "python",
   "nbconvert_exporter": "python",
   "pygments_lexer": "ipython3",
   "version": "3.10.10"
  },
  "vscode": {
   "interpreter": {
    "hash": "13920e56c93acc118d1f1d35e0408e713a2f763f26c58f3efbe7b3f2f75de63f"
   }
  }
 },
 "nbformat": 4,
 "nbformat_minor": 5
}
