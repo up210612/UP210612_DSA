{
 "cells": [
  {
   "cell_type": "code",
   "execution_count": 1,
   "id": "bcd05966-cdd8-4808-8dff-a314f25bc531",
   "metadata": {},
   "outputs": [],
   "source": [
    "class Node: \n",
    "    def __init__(self, data):\n",
    "        self.data =data\n",
    "        self.next= None\n",
    "    \n",
    "    def getData(self):\n",
    "        return self.data\n",
    "\n",
    "class Stack: #las clases siempre comienzan con MAYUSC \n",
    "    def __init__(self):\n",
    "        self.head=None\n",
    "        self.size=0\n",
    "    \n",
    "    def getSize(self):\n",
    "        return self.size\n",
    "\n",
    "    def isEmpty(self):\n",
    "        if self.size == 0:\n",
    "            return True\n",
    "        else return False\n",
    "        #return True if self.size == 0 else False\n",
    "        #return True if not self.size else False \n",
    "        \n",
    "\n",
    "    def hasDat (self):\n",
    "        if self.size>=1:\n",
    "            return True\n",
    "        else: False\n",
    "\n",
    "    def push (self, data):\n",
    "        newNode = Node(data)\n",
    "        newNode.next= self.head\n",
    "        self.head= newNode\n",
    "        self.size+=1\n",
    "    \n",
    "    def pop (self):\n",
    "        dat= None\n",
    "        if not self.isEmpty():\n",
    "            dat= self.head.data\n",
    "            self.head=self.head.next\n",
    "            self.size-=1\n",
    "        return dat\n",
    "    \n",
    "    def peak (self):\n",
    "        return self.head.data"
   ]
  },
  {
   "cell_type": "code",
   "execution_count": 35,
   "id": "97405c00-a1d6-474f-9379-7023c758c4d9",
   "metadata": {},
   "outputs": [],
   "source": [
    "p1 = Stack()\n",
    "p1.push(\"jesus\")\n",
    "p1.push(\"Maria\") \n",
    "p1.push(\"josé\")\n",
    "#p1.push(\"try\")\n"
   ]
  },
  {
   "cell_type": "code",
   "execution_count": 38,
   "id": "0dca3a0d-fbc4-447e-9c92-412f2e5c6d35",
   "metadata": {},
   "outputs": [
    {
     "name": "stdout",
     "output_type": "stream",
     "text": [
      "False\n"
     ]
    },
    {
     "ename": "AttributeError",
     "evalue": "'Stack' object has no attribute 'peak'",
     "output_type": "error",
     "traceback": [
      "\u001b[1;31m---------------------------------------------------------------------------\u001b[0m",
      "\u001b[1;31mAttributeError\u001b[0m                            Traceback (most recent call last)",
      "\u001b[1;32m~\\AppData\\Local\\Temp\\ipykernel_7596\\133739732.py\u001b[0m in \u001b[0;36m<module>\u001b[1;34m\u001b[0m\n\u001b[0;32m      1\u001b[0m \u001b[0mprint\u001b[0m\u001b[1;33m(\u001b[0m\u001b[0mp1\u001b[0m\u001b[1;33m.\u001b[0m\u001b[0misEmpty\u001b[0m\u001b[1;33m(\u001b[0m\u001b[1;33m)\u001b[0m\u001b[1;33m)\u001b[0m\u001b[1;33m\u001b[0m\u001b[1;33m\u001b[0m\u001b[0m\n\u001b[1;32m----> 2\u001b[1;33m \u001b[0mprint\u001b[0m\u001b[1;33m(\u001b[0m\u001b[0mp1\u001b[0m\u001b[1;33m.\u001b[0m\u001b[0mpeak\u001b[0m\u001b[1;33m(\u001b[0m\u001b[1;33m)\u001b[0m\u001b[1;33m)\u001b[0m\u001b[1;33m\u001b[0m\u001b[1;33m\u001b[0m\u001b[0m\n\u001b[0m",
      "\u001b[1;31mAttributeError\u001b[0m: 'Stack' object has no attribute 'peak'"
     ]
    }
   ],
   "source": [
    "print(p1.isEmpty())\n",
    "print(p1.peak())"
   ]
  },
  {
   "cell_type": "code",
   "execution_count": null,
   "id": "c9b872da-627a-45be-9662-7cf9a0cf3169",
   "metadata": {},
   "outputs": [],
   "source": []
  }
 ],
 "metadata": {
  "kernelspec": {
   "display_name": "Python 3 (ipykernel)",
   "language": "python",
   "name": "python3"
  },
  "language_info": {
   "codemirror_mode": {
    "name": "ipython",
    "version": 3
   },
   "file_extension": ".py",
   "mimetype": "text/x-python",
   "name": "python",
   "nbconvert_exporter": "python",
   "pygments_lexer": "ipython3",
   "version": "3.9.13"
  }
 },
 "nbformat": 4,
 "nbformat_minor": 5
}
